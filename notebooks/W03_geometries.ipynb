{
  "cells": [
    {
      "cell_type": "markdown",
      "metadata": {
        "id": "MJjp55ieIczF"
      },
      "source": [
        "# Working with Geometries\n",
        "\n",
        "## Introduction\n",
        "\n",
        "This notebook demonstrates how to work with geometries in DuckDB.\n",
        "\n",
        "## Installation\n",
        "\n",
        "Uncomment the following cell to install the required packages if needed."
      ],
      "id": "MJjp55ieIczF"
    },
    {
      "cell_type": "code",
      "execution_count": 16,
      "metadata": {
        "id": "M3GMVWkYIczG"
      },
      "outputs": [],
      "source": [
        "# %pip install duckdb leafmap"
      ],
      "id": "M3GMVWkYIczG"
    },
    {
      "cell_type": "markdown",
      "metadata": {
        "id": "xJGOcqzhIczH"
      },
      "source": [
        "## Library Import and Configuration"
      ],
      "id": "xJGOcqzhIczH"
    },
    {
      "cell_type": "code",
      "execution_count": 23,
      "metadata": {
        "id": "eFORSvymIczH"
      },
      "outputs": [],
      "source": [
        "import duckdb\n",
        "import leafmap"
      ],
      "id": "eFORSvymIczH"
    },
    {
      "cell_type": "markdown",
      "metadata": {
        "id": "2ZwNrWZfIczH"
      },
      "source": [
        "## Sample Data\n",
        "\n",
        "The datasets in the database are in NAD83 / UTM zone 18N projection, EPSG:26918."
      ],
      "id": "2ZwNrWZfIczH"
    },
    {
      "cell_type": "code",
      "execution_count": 24,
      "metadata": {
        "id": "5FutKnReIczH",
        "outputId": "1e3e17db-2f9f-48ff-efea-66a9c3a9de2f",
        "colab": {
          "base_uri": "https://localhost:8080/",
          "height": 53
        }
      },
      "outputs": [
        {
          "output_type": "stream",
          "name": "stdout",
          "text": [
            "nyc_data.db.zip already exists. Skip downloading. Set overwrite=True to overwrite.\n"
          ]
        },
        {
          "output_type": "execute_result",
          "data": {
            "text/plain": [
              "'/content/nyc_data.db.zip'"
            ],
            "application/vnd.google.colaboratory.intrinsic+json": {
              "type": "string"
            }
          },
          "metadata": {},
          "execution_count": 24
        }
      ],
      "source": [
        "url = \"https://open.gishub.org/data/duckdb/nyc_data.db.zip\"\n",
        "leafmap.download_file(url, unzip=True)"
      ],
      "id": "5FutKnReIczH"
    },
    {
      "cell_type": "markdown",
      "metadata": {
        "id": "VtxUxrE7IczH"
      },
      "source": [
        "## Connecting to DuckDB\n",
        "\n",
        "Connect jupysql to DuckDB using a SQLAlchemy-style connection string. You may either connect to an in memory DuckDB, or a file backed db."
      ],
      "id": "VtxUxrE7IczH"
    },
    {
      "cell_type": "code",
      "execution_count": 19,
      "metadata": {
        "id": "wI30axLKIczH"
      },
      "outputs": [],
      "source": [
        "con = duckdb.connect(\"nyc_data.db\")"
      ],
      "id": "wI30axLKIczH"
    },
    {
      "cell_type": "code",
      "execution_count": 20,
      "metadata": {
        "id": "-jdyXmyGIczH"
      },
      "outputs": [],
      "source": [
        "con.install_extension(\"spatial\")\n",
        "con.load_extension(\"spatial\")"
      ],
      "id": "-jdyXmyGIczH"
    },
    {
      "cell_type": "code",
      "execution_count": 21,
      "metadata": {
        "id": "UnFBBOEIIczH",
        "outputId": "79fbe76e-4b3a-4f72-dd6d-1163a7ba94df",
        "colab": {
          "base_uri": "https://localhost:8080/"
        }
      },
      "outputs": [
        {
          "output_type": "execute_result",
          "data": {
            "text/plain": [
              "┌─────────────────────┐\n",
              "│        name         │\n",
              "│       varchar       │\n",
              "├─────────────────────┤\n",
              "│ nyc_census_blocks   │\n",
              "│ nyc_homicides       │\n",
              "│ nyc_neighborhoods   │\n",
              "│ nyc_streets         │\n",
              "│ nyc_subway_stations │\n",
              "└─────────────────────┘"
            ]
          },
          "metadata": {},
          "execution_count": 21
        }
      ],
      "source": [
        "con.sql(\"SHOW TABLES;\")"
      ],
      "id": "UnFBBOEIIczH"
    },
    {
      "cell_type": "markdown",
      "metadata": {
        "id": "uMz_gMgTIczH"
      },
      "source": [
        "## Creating samples"
      ],
      "id": "uMz_gMgTIczH"
    },
    {
      "cell_type": "code",
      "execution_count": 25,
      "metadata": {
        "id": "kudyCNnbIczH",
        "outputId": "d59dbc72-1f70-4fb4-829e-213b24d6e3d5",
        "colab": {
          "base_uri": "https://localhost:8080/"
        }
      },
      "outputs": [
        {
          "output_type": "execute_result",
          "data": {
            "text/plain": [
              "┌─────────────────┬───────────────────────────────────────────────────────────────────────┐\n",
              "│      name       │                                 geom                                  │\n",
              "│     varchar     │                               geometry                                │\n",
              "├─────────────────┼───────────────────────────────────────────────────────────────────────┤\n",
              "│ Point           │ POINT (-100 40)                                                       │\n",
              "│ Linestring      │ LINESTRING (0 0, 1 1, 2 1, 2 2)                                       │\n",
              "│ Polygon         │ POLYGON ((0 0, 1 0, 1 1, 0 1, 0 0))                                   │\n",
              "│ PolygonWithHole │ POLYGON ((0 0, 10 0, 10 10, 0 10, 0 0), (1 1, 1 2, 2 2, 2 1, 1 1))    │\n",
              "│ Collection      │ GEOMETRYCOLLECTION (POINT (2 0), POLYGON ((0 0, 1 0, 1 1, 0 1, 0 0))) │\n",
              "└─────────────────┴───────────────────────────────────────────────────────────────────────┘"
            ]
          },
          "metadata": {},
          "execution_count": 25
        }
      ],
      "source": [
        "con.sql(\"\"\"\n",
        "\n",
        "CREATE or REPLACE TABLE samples (name VARCHAR, geom GEOMETRY);\n",
        "\n",
        "INSERT INTO samples VALUES\n",
        "  ('Point', ST_GeomFromText('POINT(-100 40)')),\n",
        "  ('Linestring', ST_GeomFromText('LINESTRING(0 0, 1 1, 2 1, 2 2)')),\n",
        "  ('Polygon', ST_GeomFromText('POLYGON((0 0, 1 0, 1 1, 0 1, 0 0))')),\n",
        "  ('PolygonWithHole', ST_GeomFromText('POLYGON((0 0, 10 0, 10 10, 0 10, 0 0),(1 1, 1 2, 2 2, 2 1, 1 1))')),\n",
        "  ('Collection', ST_GeomFromText('GEOMETRYCOLLECTION(POINT(2 0),POLYGON((0 0, 1 0, 1 1, 0 1, 0 0)))'));\n",
        "\n",
        "SELECT * FROM samples;\n",
        "\n",
        "  \"\"\")"
      ],
      "id": "kudyCNnbIczH"
    },
    {
      "cell_type": "code",
      "execution_count": null,
      "metadata": {
        "id": "7JpsTfDvIczH"
      },
      "outputs": [],
      "source": [
        "con.sql(\"SELECT name, ST_AsText(geom) AS geometry FROM samples;\")"
      ],
      "id": "7JpsTfDvIczH"
    },
    {
      "cell_type": "code",
      "execution_count": null,
      "metadata": {
        "id": "AVhlvOgeIczH"
      },
      "outputs": [],
      "source": [
        "con.sql(\"\"\"\n",
        "\n",
        "COPY samples TO 'samples.geojson' (FORMAT GDAL, DRIVER GeoJSON);\n",
        "\n",
        "\"\"\")"
      ],
      "id": "AVhlvOgeIczH"
    },
    {
      "cell_type": "markdown",
      "metadata": {
        "id": "qjt8mXHEIczH"
      },
      "source": [
        "## Points\n",
        "\n",
        "![](https://postgis.net/workshops/postgis-intro/_images/points.png)\n",
        "\n",
        "A spatial point represents a single location on the Earth. This point is represented by a single coordinate (including either 2-, 3- or 4-dimensions). Points are used to represent objects when the exact details, such as shape and size, are not important at the target scale. For example, cities on a map of the world can be described as points, while a map of a single state might represent cities as polygons.\n"
      ],
      "id": "qjt8mXHEIczH"
    },
    {
      "cell_type": "code",
      "execution_count": null,
      "metadata": {
        "id": "F2kuKwlcIczH"
      },
      "outputs": [],
      "source": [
        "con.sql(\"\"\"\n",
        "\n",
        "SELECT ST_AsText(geom)\n",
        "  FROM samples\n",
        "  WHERE name = 'Point';\n",
        "\n",
        "\"\"\")"
      ],
      "id": "F2kuKwlcIczH"
    },
    {
      "cell_type": "markdown",
      "metadata": {
        "id": "UCkYNDvZIczH"
      },
      "source": [
        "Some of the specific spatial functions for working with points are:\n",
        "\n",
        "- **ST_X(geom)** returns the X ordinate\n",
        "- **ST_Y(geom)** returns the Y ordinate\n",
        "\n",
        "So, we can read the ordinates from a point like this:"
      ],
      "id": "UCkYNDvZIczH"
    },
    {
      "cell_type": "code",
      "execution_count": null,
      "metadata": {
        "id": "TiPJ1D9eIczH"
      },
      "outputs": [],
      "source": [
        "con.sql(\"\"\"\n",
        "\n",
        "SELECT ST_X(geom), ST_Y(geom)\n",
        "  FROM samples\n",
        "  WHERE name = 'Point';\n",
        "\n",
        "\"\"\")"
      ],
      "id": "TiPJ1D9eIczH"
    },
    {
      "cell_type": "code",
      "execution_count": null,
      "metadata": {
        "id": "pdlodwLfIczI"
      },
      "outputs": [],
      "source": [
        "con.sql(\"\"\"\n",
        "\n",
        "SELECT * FROM nyc_subway_stations\n",
        "\n",
        "\"\"\")"
      ],
      "id": "pdlodwLfIczI"
    },
    {
      "cell_type": "code",
      "execution_count": null,
      "metadata": {
        "id": "B-M6raVzIczI"
      },
      "outputs": [],
      "source": [
        "con.sql(\"\"\"\n",
        "\n",
        "SELECT name, ST_AsText(geom)\n",
        "  FROM nyc_subway_stations\n",
        "  LIMIT 10;\n",
        "\n",
        "\"\"\")"
      ],
      "id": "B-M6raVzIczI"
    },
    {
      "cell_type": "markdown",
      "metadata": {
        "id": "vxokDoV3IczI"
      },
      "source": [
        "## Linestrings\n",
        "\n",
        "![](https://postgis.net/workshops/postgis-intro/_images/lines.png)\n",
        "\n",
        "\n",
        "A **linestring** is a path between locations. It takes the form of an\n",
        "ordered series of two or more points. Roads and rivers are typically\n",
        "represented as linestrings. A linestring is said to be **closed** if it\n",
        "starts and ends on the same point. It is said to be **simple** if it\n",
        "does not cross or touch itself (except at its endpoints if it is\n",
        "closed). A linestring can be both **closed** and **simple**.\n",
        "\n",
        "The street network for New York (`nyc_streets`) was loaded earlier in\n",
        "the workshop. This dataset contains details such as name, and type. A\n",
        "single real world street may consist of many linestrings, each\n",
        "representing a segment of road with different attributes.\n",
        "\n",
        "The following SQL query will return the geometry associated with one\n",
        "linestring (in the `ST_AsText` column)."
      ],
      "id": "vxokDoV3IczI"
    },
    {
      "cell_type": "code",
      "execution_count": 26,
      "metadata": {
        "id": "z7H1D6oOIczI",
        "outputId": "3a87813c-fe0b-4f13-9753-7f3df8f98727",
        "colab": {
          "base_uri": "https://localhost:8080/"
        }
      },
      "outputs": [
        {
          "output_type": "execute_result",
          "data": {
            "text/plain": [
              "┌─────────────────────────────────┐\n",
              "│         st_astext(geom)         │\n",
              "│             varchar             │\n",
              "├─────────────────────────────────┤\n",
              "│ LINESTRING (0 0, 1 1, 2 1, 2 2) │\n",
              "└─────────────────────────────────┘"
            ]
          },
          "metadata": {},
          "execution_count": 26
        }
      ],
      "source": [
        "con.sql(\"\"\"\n",
        "\n",
        "SELECT ST_AsText(geom)\n",
        "  FROM samples\n",
        "  WHERE name = 'Linestring';\n",
        "\n",
        "\"\"\")"
      ],
      "id": "z7H1D6oOIczI"
    },
    {
      "cell_type": "markdown",
      "metadata": {
        "id": "h_NcdTwHIczI"
      },
      "source": [
        "Some of the specific spatial functions for working with linestrings are:\n",
        "\n",
        "-   `ST_Length(geom)` returns the length of the linestring\n",
        "-   `ST_StartPoint(geom)` returns the first coordinate as a point\n",
        "-   `ST_EndPoint(geom)` returns the last coordinate as a point\n",
        "-   `ST_NPoints(geom)` returns the number of coordinates in the\n",
        "    linestring\n",
        "\n",
        "So, the length of our linestring is:"
      ],
      "id": "h_NcdTwHIczI"
    },
    {
      "cell_type": "code",
      "execution_count": 27,
      "metadata": {
        "id": "fxeip_6vIczI",
        "outputId": "0d97a5a0-a882-49e3-8573-59567e49aab6",
        "colab": {
          "base_uri": "https://localhost:8080/"
        }
      },
      "outputs": [
        {
          "output_type": "execute_result",
          "data": {
            "text/plain": [
              "┌───────────────────┐\n",
              "│  st_length(geom)  │\n",
              "│      double       │\n",
              "├───────────────────┤\n",
              "│ 3.414213562373095 │\n",
              "└───────────────────┘"
            ]
          },
          "metadata": {},
          "execution_count": 27
        }
      ],
      "source": [
        "con.sql(\"\"\"\n",
        "\n",
        "SELECT ST_Length(geom)\n",
        "  FROM samples\n",
        "  WHERE name = 'Linestring';\n",
        "\n",
        "\"\"\")"
      ],
      "id": "fxeip_6vIczI"
    },
    {
      "cell_type": "markdown",
      "metadata": {
        "id": "HsoKEJgQIczI"
      },
      "source": [
        "## Polygons"
      ],
      "id": "HsoKEJgQIczI"
    },
    {
      "cell_type": "markdown",
      "metadata": {
        "id": "39VzI4eAIczI"
      },
      "source": [
        "![](https://postgis.net/workshops/postgis-intro/_images/polygons.png)\n",
        "\n",
        "A polygon is a representation of an area. The outer boundary of the\n",
        "polygon is represented by a ring. This ring is a linestring that is both\n",
        "closed and simple as defined above. Holes within the polygon are also\n",
        "represented by rings.\n",
        "\n",
        "Polygons are used to represent objects whose size and shape are\n",
        "important. City limits, parks, building footprints or bodies of water\n",
        "are all commonly represented as polygons when the scale is sufficiently\n",
        "high to see their area. Roads and rivers can sometimes be represented as\n",
        "polygons.\n",
        "\n",
        "The following SQL query will return the geometry associated with one\n",
        "polygon (in the `ST_AsText` column)."
      ],
      "id": "39VzI4eAIczI"
    },
    {
      "cell_type": "code",
      "execution_count": 28,
      "metadata": {
        "id": "_X_2RwkpIczJ",
        "outputId": "0b44bc65-17e7-4812-dce6-1f4dcaa3529f",
        "colab": {
          "base_uri": "https://localhost:8080/"
        }
      },
      "outputs": [
        {
          "output_type": "execute_result",
          "data": {
            "text/plain": [
              "┌────────────────────────────────────────────────────────────────────┐\n",
              "│                          st_astext(geom)                           │\n",
              "│                              varchar                               │\n",
              "├────────────────────────────────────────────────────────────────────┤\n",
              "│ POLYGON ((0 0, 1 0, 1 1, 0 1, 0 0))                                │\n",
              "│ POLYGON ((0 0, 10 0, 10 10, 0 10, 0 0), (1 1, 1 2, 2 2, 2 1, 1 1)) │\n",
              "└────────────────────────────────────────────────────────────────────┘"
            ]
          },
          "metadata": {},
          "execution_count": 28
        }
      ],
      "source": [
        "con.sql(\"\"\"\n",
        "\n",
        "SELECT ST_AsText(geom)\n",
        "  FROM samples\n",
        "  WHERE name LIKE 'Polygon%';\n",
        "\n",
        "\"\"\")"
      ],
      "id": "_X_2RwkpIczJ"
    },
    {
      "cell_type": "markdown",
      "metadata": {
        "id": "peAY0mzvIczJ"
      },
      "source": [
        "Some of the specific spatial functions for working with polygons are:\n",
        "\n",
        "-   `ST_Area(geom)` returns the area of the polygons\n",
        "-   `ST_NRings(geom)` returns the number of rings (usually 1, more\n",
        "    of there are holes)\n",
        "-   `ST_ExteriorRing(geom)` returns the outer ring as a linestring\n",
        "-   `ST_InteriorRingN(geometry,n)` returns a specified interior ring as\n",
        "    a linestring\n",
        "-   `ST_Perimeter(geom)` returns the length of all the rings\n",
        "\n",
        "We can calculate the area of our polygons using the area function:"
      ],
      "id": "peAY0mzvIczJ"
    },
    {
      "cell_type": "code",
      "execution_count": null,
      "metadata": {
        "id": "Z0zuRclcIczJ"
      },
      "outputs": [],
      "source": [
        "con.sql(\"\"\"\n",
        "\n",
        "SELECT name, ST_Area(geom)\n",
        "  FROM samples\n",
        "  WHERE name LIKE 'Polygon%';\n",
        "\n",
        "\"\"\")"
      ],
      "id": "Z0zuRclcIczJ"
    },
    {
      "cell_type": "markdown",
      "metadata": {
        "id": "Nx13rU19IczJ"
      },
      "source": [
        "## Collections\n",
        "\n",
        "There are four collection types, which group multiple simple samples\n",
        "into sets.\n",
        "\n",
        "-   **MultiPoint**, a collection of points\n",
        "-   **MultiLineString**, a collection of linestrings\n",
        "-   **MultiPolygon**, a collection of polygons\n",
        "-   **GeometryCollection**, a heterogeneous collection of any geometry\n",
        "    (including other collections)\n",
        "\n",
        "Collections are another concept that shows up in GIS software more than\n",
        "in generic graphics software. They are useful for directly modeling real\n",
        "world objects as spatial objects. For example, how to model a lot that\n",
        "is split by a right-of-way? As a **MultiPolygon**, with a part on either\n",
        "side of the right-of-way.\n",
        "\n",
        "Our example collection contains a polygon and a point:"
      ],
      "id": "Nx13rU19IczJ"
    },
    {
      "cell_type": "code",
      "execution_count": null,
      "metadata": {
        "id": "npsIbT9LIczJ"
      },
      "outputs": [],
      "source": [
        "con.sql(\"\"\"\n",
        "\n",
        "SELECT name, ST_AsText(geom)\n",
        "  FROM samples\n",
        "  WHERE name = 'Collection';\n",
        "\n",
        "\"\"\")"
      ],
      "id": "npsIbT9LIczJ"
    },
    {
      "cell_type": "markdown",
      "metadata": {
        "id": "Galcf1WVIczK"
      },
      "source": [
        "## Data Visualization"
      ],
      "id": "Galcf1WVIczK"
    },
    {
      "cell_type": "code",
      "execution_count": null,
      "metadata": {
        "id": "CrzPQSUsIczK"
      },
      "outputs": [],
      "source": [
        "con.sql(\"SHOW TABLES;\")"
      ],
      "id": "CrzPQSUsIczK"
    },
    {
      "cell_type": "code",
      "execution_count": null,
      "metadata": {
        "id": "4ZSxDOyRIczK"
      },
      "outputs": [],
      "source": [
        "subway_stations_df = con.sql(\"SELECT * EXCLUDE geom, ST_AsText(geom) as geometry FROM nyc_subway_stations\").df()\n",
        "subway_stations_df.head()"
      ],
      "id": "4ZSxDOyRIczK"
    },
    {
      "cell_type": "code",
      "execution_count": null,
      "metadata": {
        "id": "qiRpZ6VsIczK"
      },
      "outputs": [],
      "source": [
        "subway_stations_gdf = leafmap.df_to_gdf(subway_stations_df, src_crs=\"EPSG:26918\", dst_crs=\"EPSG:4326\")\n",
        "subway_stations_gdf.head()"
      ],
      "id": "qiRpZ6VsIczK"
    },
    {
      "cell_type": "code",
      "execution_count": null,
      "metadata": {
        "id": "TekYqA2_IczK"
      },
      "outputs": [],
      "source": [
        "subway_stations_gdf.explore()"
      ],
      "id": "TekYqA2_IczK"
    },
    {
      "cell_type": "code",
      "execution_count": null,
      "metadata": {
        "id": "eoTmTH5rIczK"
      },
      "outputs": [],
      "source": [
        "nyc_streets_df = con.sql(\"SELECT * EXCLUDE geom, ST_AsText(geom) as geometry FROM nyc_streets\").df()\n",
        "nyc_streets_df.head()"
      ],
      "id": "eoTmTH5rIczK"
    },
    {
      "cell_type": "code",
      "execution_count": null,
      "metadata": {
        "id": "s7WC-PdxIczK"
      },
      "outputs": [],
      "source": [
        "nyc_streets_gdf = leafmap.df_to_gdf(nyc_streets_df, src_crs=\"EPSG:26918\", dst_crs=\"EPSG:4326\")\n",
        "nyc_streets_gdf.head()"
      ],
      "id": "s7WC-PdxIczK"
    },
    {
      "cell_type": "code",
      "execution_count": null,
      "metadata": {
        "id": "5YjwDJ2xIczK"
      },
      "outputs": [],
      "source": [
        "nyc_streets_gdf.explore()"
      ],
      "id": "5YjwDJ2xIczK"
    }
  ],
  "metadata": {
    "celltoolbar": "Tags",
    "hide_input": false,
    "kernelspec": {
      "display_name": "Python 3",
      "language": "python",
      "name": "python3"
    },
    "language_info": {
      "codemirror_mode": {
        "name": "ipython",
        "version": 3
      },
      "file_extension": ".py",
      "mimetype": "text/x-python",
      "name": "python",
      "nbconvert_exporter": "python",
      "pygments_lexer": "ipython3",
      "version": "3.11.6"
    },
    "toc": {
      "base_numbering": 1,
      "nav_menu": {},
      "number_sections": true,
      "sideBar": true,
      "skip_h1_title": false,
      "title_cell": "Table of Contents",
      "title_sidebar": "Contents",
      "toc_cell": false,
      "toc_position": {},
      "toc_section_display": true,
      "toc_window_display": false
    },
    "varInspector": {
      "cols": {
        "lenName": 16,
        "lenType": 16,
        "lenVar": 40
      },
      "kernels_config": {
        "python": {
          "delete_cmd_postfix": "",
          "delete_cmd_prefix": "del ",
          "library": "var_list.py",
          "varRefreshCmd": "print(var_dic_list())"
        },
        "r": {
          "delete_cmd_postfix": ") ",
          "delete_cmd_prefix": "rm(",
          "library": "var_list.r",
          "varRefreshCmd": "cat(var_dic_list()) "
        }
      },
      "types_to_exclude": [
        "module",
        "function",
        "builtin_function_or_method",
        "instance",
        "_Feature"
      ],
      "window_display": false
    },
    "colab": {
      "provenance": []
    }
  },
  "nbformat": 4,
  "nbformat_minor": 5
}