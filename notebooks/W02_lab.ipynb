{
  "cells": [
    {
      "cell_type": "markdown",
      "metadata": {
        "id": "LUTisnmkktUB"
      },
      "source": [
        "# Week 2 Lab\n",
        "\n",
        "**Datasets**:\n",
        "\n",
        "The following datasets are used in this lab.\n",
        "\n",
        "- [nyc_subway_stations.tsv](https://open.gishub.org/data/duckdb/nyc_subway_stations.tsv)\n",
        "- [nyc_neighborhoods.tsv](https://open.gishub.org/data/duckdb/nyc_neighborhoods.tsv)"
      ],
      "id": "LUTisnmkktUB"
    },
    {
      "cell_type": "code",
      "execution_count": null,
      "metadata": {
        "id": "10eqxwllktUC"
      },
      "outputs": [],
      "source": [
        "# %pip install duckdb duckdb-engine jupysql"
      ],
      "id": "10eqxwllktUC"
    },
    {
      "cell_type": "code",
      "execution_count": 1,
      "metadata": {
        "id": "3tpaQ23TktUD"
      },
      "outputs": [],
      "source": [
        "import duckdb\n",
        "\n",
        "%load_ext sql"
      ],
      "id": "3tpaQ23TktUD"
    },
    {
      "cell_type": "code",
      "execution_count": null,
      "metadata": {
        "id": "Okn19V05ktUD"
      },
      "outputs": [],
      "source": [
        "%config SqlMagic.autopandas = True\n",
        "%config SqlMagic.feedback = False\n",
        "%config SqlMagic.displaycon = False"
      ],
      "id": "Okn19V05ktUD"
    },
    {
      "cell_type": "markdown",
      "metadata": {
        "id": "BvlQ_cs8ktUD"
      },
      "source": [
        "## Question 1: Creating Tables\n",
        "\n",
        "Create a database, then write a SQL query to create a table named `nyc_subway_stations` and load the data from the file `nyc_subway_stations.tsv` into it. Similarly, create a table named `nyc_neighborhoods` and load the data from the file `nyc_neighborhoods.tsv` into it."
      ],
      "id": "BvlQ_cs8ktUD"
    },
    {
      "cell_type": "code",
      "execution_count": null,
      "metadata": {
        "id": "P2oIYC-YktUD"
      },
      "outputs": [],
      "source": [
        "# Add your code here."
      ],
      "id": "P2oIYC-YktUD"
    },
    {
      "cell_type": "markdown",
      "metadata": {
        "id": "juPIPmnSktUD"
      },
      "source": [
        "## Question 2: Column Filtering\n",
        "\n",
        "Write a SQL query to display the `ID`, `NAME`, and `BOROUGH` of each subway station in the `nyc_subway_stations` dataset."
      ],
      "id": "juPIPmnSktUD"
    },
    {
      "cell_type": "code",
      "execution_count": null,
      "metadata": {
        "id": "cx_UgAvlktUD"
      },
      "outputs": [],
      "source": [
        "# Add your code here."
      ],
      "id": "cx_UgAvlktUD"
    },
    {
      "cell_type": "markdown",
      "metadata": {
        "id": "gBVM0wpJktUD"
      },
      "source": [
        "## Question 3: Row Filtering\n",
        "\n",
        "Write a SQL query to find all subway stations in the `nyc_subway_stations` dataset that are located in the borough of Manhattan."
      ],
      "id": "gBVM0wpJktUD"
    },
    {
      "cell_type": "code",
      "execution_count": null,
      "metadata": {
        "id": "2yxGb-4TktUE"
      },
      "outputs": [],
      "source": [
        "# Add your code here."
      ],
      "id": "2yxGb-4TktUE"
    },
    {
      "cell_type": "markdown",
      "metadata": {
        "id": "h9b7upg_ktUE"
      },
      "source": [
        "## Question 4: Sorting Results\n",
        "\n",
        "Write a SQL query to list the subway stations in the `nyc_subway_stations` dataset in alphabetical order by their names."
      ],
      "id": "h9b7upg_ktUE"
    },
    {
      "cell_type": "code",
      "execution_count": null,
      "metadata": {
        "id": "7BUJ6Q0RktUE"
      },
      "outputs": [],
      "source": [
        "# Add your code here."
      ],
      "id": "7BUJ6Q0RktUE"
    },
    {
      "cell_type": "markdown",
      "metadata": {
        "id": "jSHuouDHktUE"
      },
      "source": [
        "## Question 5: Unique Values\n",
        "\n",
        "Write a SQL query to find the distinct boroughs represented in the `nyc_subway_stations` dataset."
      ],
      "id": "jSHuouDHktUE"
    },
    {
      "cell_type": "code",
      "execution_count": null,
      "metadata": {
        "id": "e4CpApgIktUE"
      },
      "outputs": [],
      "source": [
        "# Add your code here."
      ],
      "id": "e4CpApgIktUE"
    },
    {
      "cell_type": "markdown",
      "metadata": {
        "id": "xfZk0QCZktUE"
      },
      "source": [
        "## Question 6: Counting Rows\n",
        "\n",
        "Write a SQL query to count the number of subway stations in each borough in the `nyc_subway_stations` dataset."
      ],
      "id": "xfZk0QCZktUE"
    },
    {
      "cell_type": "code",
      "execution_count": null,
      "metadata": {
        "id": "s_6jejMIktUE"
      },
      "outputs": [],
      "source": [
        "# Add your code here."
      ],
      "id": "s_6jejMIktUE"
    },
    {
      "cell_type": "markdown",
      "metadata": {
        "id": "9KJEMn6CktUE"
      },
      "source": [
        "## Question 7: Aggregating Data\n",
        "\n",
        "Write a SQL query to list the number of subway stations in each borough, sorted in descending order by the count."
      ],
      "id": "9KJEMn6CktUE"
    },
    {
      "cell_type": "code",
      "execution_count": null,
      "metadata": {
        "id": "rX018j_JktUE"
      },
      "outputs": [],
      "source": [
        "# Add your code here."
      ],
      "id": "rX018j_JktUE"
    },
    {
      "cell_type": "markdown",
      "metadata": {
        "id": "IvbMSZC5ktUE"
      },
      "source": [
        "## Question 8: Joining Tables\n",
        "\n",
        "Write a SQL query to join the `nyc_subway_stations` and `nyc_neighborhoods` datasets on the borough name, displaying the subway station name and the neighborhood name."
      ],
      "id": "IvbMSZC5ktUE"
    },
    {
      "cell_type": "code",
      "execution_count": null,
      "metadata": {
        "id": "ohM05DAuktUE"
      },
      "outputs": [],
      "source": [
        "# Add your code here."
      ],
      "id": "ohM05DAuktUE"
    },
    {
      "cell_type": "markdown",
      "metadata": {
        "id": "ODkDgtmYktUE"
      },
      "source": [
        "## Question 9: String Manipulation\n",
        "\n",
        "Write a SQL query to display the names of subway stations in the `nyc_subway_stations` dataset that contain the word \"St\" in their names."
      ],
      "id": "ODkDgtmYktUE"
    },
    {
      "cell_type": "code",
      "execution_count": null,
      "metadata": {
        "id": "lwcqXrCOktUE"
      },
      "outputs": [],
      "source": [
        "# Add your code here."
      ],
      "id": "lwcqXrCOktUE"
    },
    {
      "cell_type": "markdown",
      "metadata": {
        "id": "2nEAtmQlktUE"
      },
      "source": [
        "## Question 10: Filtering with Multiple Conditions\n",
        "\n",
        "Write a SQL query to find all subway stations in the `nyc_subway_stations` dataset that are in the borough of Brooklyn and have routes that include the letter \"R\"."
      ],
      "id": "2nEAtmQlktUE"
    },
    {
      "cell_type": "code",
      "execution_count": null,
      "metadata": {
        "id": "LZXm6myRktUE"
      },
      "outputs": [],
      "source": [
        "# Add your code here."
      ],
      "id": "LZXm6myRktUE"
    }
  ],
  "metadata": {
    "kernelspec": {
      "display_name": "Python 3",
      "language": "python",
      "name": "python3"
    },
    "language_info": {
      "codemirror_mode": {
        "name": "ipython",
        "version": 3
      },
      "file_extension": ".py",
      "mimetype": "text/x-python",
      "name": "python",
      "nbconvert_exporter": "python",
      "pygments_lexer": "ipython3",
      "version": "3.9.18"
    },
    "colab": {
      "provenance": []
    }
  },
  "nbformat": 4,
  "nbformat_minor": 5
}