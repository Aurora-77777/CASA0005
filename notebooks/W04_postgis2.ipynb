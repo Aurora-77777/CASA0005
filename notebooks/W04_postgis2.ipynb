{
  "cells": [
    {
      "cell_type": "markdown",
      "metadata": {
        "id": "qIRAGQ1gAF0q"
      },
      "source": [
        "# Spatial Joins Exercises\n",
        "\n",
        "Here\\'s a reminder of some of the functions we have seen. Hint: they\n",
        "should be useful for the exercises!\n",
        "\n",
        "-   `sum(expression)`: aggregate to\n",
        "    return a sum for a set of records\n",
        "-   `count(expression)`: aggregate to\n",
        "    return the size of a set of records\n",
        "-   `ST_Area(geometry)` returns the\n",
        "    area of the polygons\n",
        "-   `ST_AsText(geometry)` returns WKT `text`\n",
        "-   `ST_Contains(geometry A, geometry B)` returns the true if geometry A contains geometry B\n",
        "-   `ST_Distance(geometry A, geometry B)` returns the minimum distance between geometry A and\n",
        "    geometry B\n",
        "-   `ST_DWithin(geometry A, geometry B, radius)` returns the true if geometry A is radius distance or less from geometry B\n",
        "-   `ST_GeomFromText(text)` returns `geometry`\n",
        "-   `ST_Intersects(geometry A, geometry B)` returns the true if geometry A intersects geometry B\n",
        "-   `ST_Length(linestring)` returns the length of the linestring\n",
        "-   `ST_Touches(geometry A, geometry B)` returns the true if the boundary of geometry A touches geometry B\n",
        "-   `ST_Within(geometry A, geometry B)` returns the true if geometry A is within geometry B\n",
        "\n",
        "\n",
        "Uncomment and run the following cell to install the required packages.\n"
      ]
    },
    {
      "cell_type": "code",
      "execution_count": 11,
      "metadata": {
        "id": "0Wg_k00zAF0s",
        "outputId": "905efa79-8b62-470d-be5e-e61dffff76ec",
        "colab": {
          "base_uri": "https://localhost:8080/"
        }
      },
      "outputs": [
        {
          "output_type": "stream",
          "name": "stderr",
          "text": [
            "Downloading...\n",
            "From: https://open.gishub.org/data/duckdb/nyc_data.zip\n",
            "To: /content/nyc_data.zip\n",
            "100%|██████████| 8.73M/8.73M [00:00<00:00, 62.8MB/s]\n"
          ]
        },
        {
          "output_type": "stream",
          "name": "stdout",
          "text": [
            "Extracting files...\n"
          ]
        },
        {
          "output_type": "execute_result",
          "data": {
            "text/plain": [
              "┌─────────┐\n",
              "│  name   │\n",
              "│ varchar │\n",
              "├─────────┤\n",
              "│ 0 rows  │\n",
              "└─────────┘"
            ]
          },
          "metadata": {},
          "execution_count": 11
        }
      ],
      "source": [
        "import leafmap\n",
        "import duckdb\n",
        "\n",
        "# 下载并解压 ZIP 文件\n",
        "url = \"https://open.gishub.org/data/duckdb/nyc_data.zip\"\n",
        "leafmap.download_file(url, unzip=True, overwrite=True)\n",
        "\n",
        "# 连接 DuckDB 并启用 httpfs\n",
        "con = duckdb.connect(\"nyc_data.db\")\n",
        "con.execute(\"INSTALL httpfs;\")\n",
        "con.execute(\"LOAD httpfs;\")\n",
        "con.install_extension(\"spatial\")\n",
        "con.load_extension(\"spatial\")\n",
        "\n",
        "con.sql(\"SHOW TABLES;\")\n"
      ]
    },
    {
      "cell_type": "code",
      "source": [
        "import os\n",
        "\n",
        "extract_path = \"/content/nyc_data\"\n",
        "\n",
        "# 检查路径是否存在\n",
        "if os.path.exists(extract_path):\n",
        "    if os.path.isfile(extract_path):  # 该路径是一个文件\n",
        "        print(\"⚠️ `/content/nyc_data` 已经是一个文件，先删除\")\n",
        "        os.remove(extract_path)  # 删除该文件\n",
        "    elif os.path.isdir(extract_path):  # 该路径是一个目录\n",
        "        print(\"✅ `/content/nyc_data` 已经是一个文件夹\")\n",
        "else:\n",
        "    print(\"🔍 `/content/nyc_data` 目录不存在，可以安全解压\")"
      ],
      "metadata": {
        "id": "ocN_vS7xUKAt",
        "outputId": "90db1f84-a18f-4a77-c732-ceb60b79fabf",
        "colab": {
          "base_uri": "https://localhost:8080/"
        }
      },
      "execution_count": 21,
      "outputs": [
        {
          "output_type": "stream",
          "name": "stdout",
          "text": [
            "⚠️ `/content/nyc_data` 已经是一个文件，先删除\n"
          ]
        }
      ]
    },
    {
      "cell_type": "code",
      "source": [
        "import zipfile\n",
        "\n",
        "zip_path = \"/content/nyc_data.zip\"\n",
        "extract_path = \"/content/nyc_data\"\n",
        "\n",
        "# 重新解压 ZIP 文件\n",
        "with zipfile.ZipFile(zip_path, 'r') as zip_ref:\n",
        "    zip_ref.extractall(extract_path)\n",
        "\n",
        "# 查看解压后的内容\n",
        "print(\"📂 解压后文件列表:\", os.listdir(extract_path))"
      ],
      "metadata": {
        "id": "Yx462kcTUdB2",
        "outputId": "5ca74ee8-fb4b-4f6b-bba0-bc6eeabbfc68",
        "colab": {
          "base_uri": "https://localhost:8080/"
        }
      },
      "execution_count": 22,
      "outputs": [
        {
          "output_type": "stream",
          "name": "stdout",
          "text": [
            "📂 解压后文件列表: ['nyc_census_blocks.shp', 'nyc_subway_stations.prj', 'nyc_subway_stations.shx', 'nyc_neighborhoods.shp', 'nyc_streets.prj', 'nyc_census_blocks.dbf', 'nyc_census_blocks.shx', 'nyc_census_blocks.prj', 'nyc_homicides.prj', 'nyc_neighborhoods.dbf', 'nyc_census_sociodata.sql', 'nyc_homicides.shp', 'nyc_streets.shp', 'nyc_subway_stations.dbf', 'nyc_streets.dbf', 'nyc_neighborhoods.prj', 'nyc_homicides.shx', 'nyc_subway_stations.shp', 'nyc_homicides.dbf', 'nyc_neighborhoods.shx', 'nyc_streets.shx', 'README.txt']\n"
          ]
        }
      ]
    },
    {
      "cell_type": "code",
      "source": [
        "shp_file = \"https://open.gishub.org/data/duckdb/nyc_data/nyc_neighborhoods.shp\"\n",
        "\n",
        "con.execute(f\"\"\"\n",
        "    CREATE TABLE nyc_neighborhoods AS\n",
        "    SELECT * FROM ST_Read('{shp_file}');\n",
        "\"\"\")\n",
        "\n",
        "print(con.execute(\"SHOW TABLES;\").fetchdf())\n",
        "print(con.execute(\"SELECT * FROM nyc_neighborhoods LIMIT 5\").fetchdf())"
      ],
      "metadata": {
        "id": "zdKfyRvZRGxG",
        "outputId": "df6ebc99-618c-42e4-ea8e-25201697af6b",
        "colab": {
          "base_uri": "https://localhost:8080/",
          "height": 341
        }
      },
      "execution_count": 18,
      "outputs": [
        {
          "output_type": "error",
          "ename": "IOException",
          "evalue": "IO Error: GDAL Error (4): Failed to open file https://open.gishub.org/data/duckdb/nyc_data/nyc_neighborhoods.shp: {\"exception_type\":\"HTTP\",\"exception_message\":\"Unable to connect to URL \\\"https://open.gishub.org/data/duckdb/nyc_data/nyc_neighborhoods.shp\\\": 404 (Not Found)\",\"header_ETag\":\"\\\"64d39a40-24a3\\\"\",\"header_Server\":\"GitHub.com\",\"header_Date\":\"Tue, 28 Jan 2025 14:21:41 GMT\",\"header_Via\":\"1.1 varnish\",\"header_Access-Control-Allow-Origin\":\"*\",\"status_code\":\"404\",\"header_X-Cache-Hits\":\"0\",\"header_X-Cache\":\"MISS\",\"reason\":\"Not Found\",\"header_Accept-Ranges\":\"bytes\",\"response_body\":\"\",\"header_X-Served-By\":\"cache-lax-kwhp1940101-LAX\",\"header_Vary\":\"Accept-Encoding\",\"header_Content-Type\":\"text/html; charset=utf-8\",\"header_Content-Security-Policy\":\"default-src 'none'; style-src 'unsafe-inline'; img-src data:; connect-src 'self'\",\"header_Content-Length\":\"9379\",\"header_X-Timer\":\"S1738074101.415844,VS0,VE110\",\"header_x-proxy-cache\":\"MISS\",\"header_Age\":\"0\",\"header_X-Fastly-Request-ID\":\"a17d1f562c324fd1e84886060da7b991841cfa88\",\"header_X-GitHub-Request-Id\":\"1D22:903BB:B44799:B94B9C:6798E7F4\",\"header_Connection\":\"keep-alive\"}",
          "traceback": [
            "\u001b[0;31m---------------------------------------------------------------------------\u001b[0m",
            "\u001b[0;31mIOException\u001b[0m                               Traceback (most recent call last)",
            "\u001b[0;32m<ipython-input-18-46f3b02a21cb>\u001b[0m in \u001b[0;36m<cell line: 0>\u001b[0;34m()\u001b[0m\n\u001b[1;32m      1\u001b[0m \u001b[0mshp_file\u001b[0m \u001b[0;34m=\u001b[0m \u001b[0;34m\"https://open.gishub.org/data/duckdb/nyc_data/nyc_neighborhoods.shp\"\u001b[0m\u001b[0;34m\u001b[0m\u001b[0;34m\u001b[0m\u001b[0m\n\u001b[1;32m      2\u001b[0m \u001b[0;34m\u001b[0m\u001b[0m\n\u001b[0;32m----> 3\u001b[0;31m con.execute(f\"\"\"\n\u001b[0m\u001b[1;32m      4\u001b[0m     \u001b[0mCREATE\u001b[0m \u001b[0mTABLE\u001b[0m \u001b[0mnyc_neighborhoods\u001b[0m \u001b[0mAS\u001b[0m\u001b[0;34m\u001b[0m\u001b[0;34m\u001b[0m\u001b[0m\n\u001b[1;32m      5\u001b[0m     \u001b[0mSELECT\u001b[0m \u001b[0;34m*\u001b[0m \u001b[0mFROM\u001b[0m \u001b[0mST_Read\u001b[0m\u001b[0;34m(\u001b[0m\u001b[0;34m'{shp_file}'\u001b[0m\u001b[0;34m)\u001b[0m\u001b[0;34m;\u001b[0m\u001b[0;34m\u001b[0m\u001b[0;34m\u001b[0m\u001b[0m\n",
            "\u001b[0;31mIOException\u001b[0m: IO Error: GDAL Error (4): Failed to open file https://open.gishub.org/data/duckdb/nyc_data/nyc_neighborhoods.shp: {\"exception_type\":\"HTTP\",\"exception_message\":\"Unable to connect to URL \\\"https://open.gishub.org/data/duckdb/nyc_data/nyc_neighborhoods.shp\\\": 404 (Not Found)\",\"header_ETag\":\"\\\"64d39a40-24a3\\\"\",\"header_Server\":\"GitHub.com\",\"header_Date\":\"Tue, 28 Jan 2025 14:21:41 GMT\",\"header_Via\":\"1.1 varnish\",\"header_Access-Control-Allow-Origin\":\"*\",\"status_code\":\"404\",\"header_X-Cache-Hits\":\"0\",\"header_X-Cache\":\"MISS\",\"reason\":\"Not Found\",\"header_Accept-Ranges\":\"bytes\",\"response_body\":\"\",\"header_X-Served-By\":\"cache-lax-kwhp1940101-LAX\",\"header_Vary\":\"Accept-Encoding\",\"header_Content-Type\":\"text/html; charset=utf-8\",\"header_Content-Security-Policy\":\"default-src 'none'; style-src 'unsafe-inline'; img-src data:; connect-src 'self'\",\"header_Content-Length\":\"9379\",\"header_X-Timer\":\"S1738074101.415844,VS0,VE110\",\"header_x-proxy-cache\":\"MISS\",\"header_Age\":\"0\",\"header_X-Fastly-Request-ID\":\"a17d1f562c324fd1e84886060da7b991841cfa88\",\"header_X-GitHub-Request-Id\":\"1D22:903BB:B44799:B94B9C:6798E7F4\",\"header_Connection\":\"keep-alive\"}"
          ]
        }
      ]
    },
    {
      "cell_type": "markdown",
      "metadata": {
        "id": "HlRxozrgAF0s"
      },
      "source": [
        "Download the [nyc_data.zip](https://github.com/opengeos/data/raw/main/duckdb/nyc_data.zip) dataset using leafmap. The zip file contains the following datasets. Create a new DuckDB database and import the datasets into the database. Each dataset should be imported into a separate table.\n",
        "\n",
        "- nyc_census_blocks\n",
        "- nyc_homicides\n",
        "- nyc_neighborhoods\n",
        "- nyc_streets\n",
        "- nyc_subway_stations"
      ]
    },
    {
      "cell_type": "markdown",
      "metadata": {
        "id": "FnEtARzeAF0s"
      },
      "source": [
        "1. **What subway station is in \\'Little Italy\\'? What subway route is it on?**"
      ]
    },
    {
      "cell_type": "code",
      "source": [
        "con.execute(\"INSTALL spatial;\")\n",
        "con.execute(\"LOAD spatial;\")\n",
        "\n",
        "shp_file = \"/content/nyc_data/nyc_subway_stations.shp\"\n",
        "\n",
        "con.execute(f\"\"\"\n",
        "    CREATE TABLE nyc_subway_stations AS\n",
        "    SELECT * FROM ST_Read('{shp_file}');\n",
        "\"\"\")\n"
      ],
      "metadata": {
        "id": "sKN8TvT9S-eP",
        "outputId": "853a3a91-299f-475a-cdd7-d91334152660",
        "colab": {
          "base_uri": "https://localhost:8080/"
        }
      },
      "execution_count": 27,
      "outputs": [
        {
          "output_type": "execute_result",
          "data": {
            "text/plain": [
              "<duckdb.duckdb.DuckDBPyConnection at 0x7f3ef71c45b0>"
            ]
          },
          "metadata": {},
          "execution_count": 27
        }
      ]
    },
    {
      "cell_type": "code",
      "execution_count": 29,
      "metadata": {
        "id": "3c5BqyceAF0s",
        "outputId": "bfffe59a-1838-4c9e-81ed-6064682c6d71",
        "colab": {
          "base_uri": "https://localhost:8080/"
        }
      },
      "outputs": [
        {
          "output_type": "execute_result",
          "data": {
            "text/plain": [
              "┌─────────┬─────────────────┐\n",
              "│  NAME   │ st_astext(geom) │\n",
              "│ varchar │     varchar     │\n",
              "├─────────┴─────────────────┤\n",
              "│          0 rows           │\n",
              "└───────────────────────────┘"
            ]
          },
          "metadata": {},
          "execution_count": 29
        }
      ],
      "source": [
        "con.sql(\"select name, st_astext(geom) from nyc_subway_stations where borough = 'Little Italy'\")"
      ]
    },
    {
      "cell_type": "markdown",
      "metadata": {
        "id": "W3Sy079fAF0s"
      },
      "source": [
        "2. **What are all the neighborhoods served by the 6-train?** (Hint: The `routes` column in the `nyc_subway_stations` table has values like \\'B,D,6,V\\' and \\'C,6\\')\n"
      ]
    },
    {
      "cell_type": "code",
      "execution_count": null,
      "metadata": {
        "id": "kIcp5mopAF0t"
      },
      "outputs": [],
      "source": []
    },
    {
      "cell_type": "markdown",
      "metadata": {
        "id": "K6IHThK4AF0t"
      },
      "source": [
        "3. **After 9/11, the \\'Battery Park\\' neighborhood was off limits for several days. How many people had to be evacuated?**"
      ]
    },
    {
      "cell_type": "code",
      "execution_count": null,
      "metadata": {
        "id": "_0xhxO5QAF0t"
      },
      "outputs": [],
      "source": []
    },
    {
      "cell_type": "markdown",
      "metadata": {
        "id": "cGHCFQXgAF0t"
      },
      "source": [
        "4. **What neighborhood has the highest population density (persons/km2)?**\n"
      ]
    },
    {
      "cell_type": "code",
      "execution_count": null,
      "metadata": {
        "id": "vBE4o0L3AF0t"
      },
      "outputs": [],
      "source": []
    },
    {
      "cell_type": "markdown",
      "metadata": {
        "id": "w4WOuM8lAF0t"
      },
      "source": [
        "When you're finished, you can check your answers [here](https://postgis.net/workshops/postgis-intro/joins_exercises.html)."
      ]
    },
    {
      "cell_type": "markdown",
      "metadata": {
        "id": "nwMncytTAF0t"
      },
      "source": [
        "# Ship-to-Ship Transfer Detection\n",
        "\n",
        "Now for a less structured exercise. We're going to look at ship-to-ship transfers. The idea is that two ships meet up in the middle of the ocean, and one ship transfers cargo to the other. This is a common way to avoid sanctions, and is often used to transfer oil from sanctioned countries to other countries. We're going to look at a few different ways to detect these transfers using AIS data."
      ]
    },
    {
      "cell_type": "code",
      "execution_count": null,
      "metadata": {
        "id": "SDZLA0vPAF0t"
      },
      "outputs": [],
      "source": [
        "%pip install duckdb duckdb-engine jupysql"
      ]
    },
    {
      "cell_type": "code",
      "execution_count": null,
      "metadata": {
        "id": "01AWWw0GAF0t"
      },
      "outputs": [],
      "source": [
        "import duckdb\n",
        "import pandas as pd\n",
        "\n",
        "# Import jupysql Jupyter extension to create SQL cells\n",
        "%load_ext sql\n",
        "%config SqlMagic.autopandas = True\n",
        "%config SqlMagic.feedback = False\n",
        "%config SqlMagic.displaycon = False\n",
        "%sql duckdb:///:memory:"
      ]
    },
    {
      "cell_type": "code",
      "execution_count": null,
      "metadata": {
        "id": "8GrV8UyAAF0t"
      },
      "outputs": [],
      "source": [
        "%%sql\n",
        "INSTALL httpfs;\n",
        "LOAD httpfs;\n",
        "INSTALL spatial;\n",
        "LOAD spatial;"
      ]
    },
    {
      "cell_type": "markdown",
      "metadata": {
        "id": "mcSUY-dmAF0t"
      },
      "source": [
        "## Step 1\n",
        "\n",
        "Create a spatial database using the following AIS data:\n",
        "\n",
        "https://storage.googleapis.com/qm2/casa0025_ships.csv\n",
        "\n",
        "Each row in this dataset is an AIS 'ping' indicating the position of a ship at a particular date/time, alongside vessel-level characteristics.\n",
        "\n",
        "It contains the following columns:\n",
        "* `vesselid`: A unique numerical identifier for each ship, like a license plate\n",
        "* `vessel_name`: The ship's name\n",
        "* `vsl_descr`: The ship's type\n",
        "* `dwt`: The ship's Deadweight Tonnage (how many tons it can carry)\n",
        "* `v_length`: The ship's length in meters\n",
        "* `draught`: How many meters deep the ship is draughting (how low it sits in the water). Effectively indicates how much cargo the ship is carrying\n",
        "* `sog`: Speed over Ground (in knots)\n",
        "* `date`: A timestamp for the AIS signal\n",
        "* `lat`: The latitude of the AIS signal (EPSG:4326)\n",
        "* `lon`: The longitude of the AIS signal (EPSG:4326)\n",
        "\n",
        "Create a table called 'ais' where each row is a different AIS ping, with no superfluous information. Construct a geometry column.\n",
        "\n",
        "Create a second table called 'vinfo' which contains vessel-level information with no superfluous information."
      ]
    },
    {
      "cell_type": "code",
      "execution_count": null,
      "metadata": {
        "id": "oXEwaQvKAF0u"
      },
      "outputs": [],
      "source": []
    },
    {
      "cell_type": "markdown",
      "metadata": {
        "id": "atkpEDd-AF0u"
      },
      "source": [
        "## Step 2\n",
        "\n",
        "Use a spatial join to identify ship-to-ship transfers in this dataset.\n",
        "Two ships are considered to be conducting a ship to ship transfer IF:\n",
        "\n",
        "* They are within 500 meters of each other\n",
        "* For more than two hours\n",
        "* And their speed is lower than 1 knot\n",
        "\n",
        "Some things to consider: make sure you're not joining ships with themselves. Try working with subsets of the data first while you try different things out."
      ]
    },
    {
      "cell_type": "code",
      "execution_count": null,
      "metadata": {
        "id": "zseAjDFOAF0u"
      },
      "outputs": [],
      "source": []
    }
  ],
  "metadata": {
    "language_info": {
      "name": "python"
    },
    "colab": {
      "provenance": []
    },
    "kernelspec": {
      "name": "python3",
      "display_name": "Python 3"
    }
  },
  "nbformat": 4,
  "nbformat_minor": 0
}